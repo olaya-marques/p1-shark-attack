{
 "cells": [
  {
   "cell_type": "markdown",
   "id": "1bcc703a",
   "metadata": {},
   "source": [
    "# Visualización de datos 📊"
   ]
  },
  {
   "cell_type": "markdown",
   "id": "96f715c2",
   "metadata": {},
   "source": [
    "En este jupyter se encuentra todo el proceso de visualización y planteamiento de hipótesis, de los datos procesados del dataset descargado de kaggle: \"Shark attack\""
   ]
  },
  {
   "cell_type": "markdown",
   "id": "37fc960b",
   "metadata": {},
   "source": [
    "## Índice 📎"
   ]
  },
  {
   "cell_type": "markdown",
   "id": "6387b105",
   "metadata": {},
   "source": [
    "1. Importación de librerías\n",
    "2. Importación del dataset\n",
    "3. Visualización de datos"
   ]
  },
  {
   "cell_type": "markdown",
   "id": "ce964a8e",
   "metadata": {},
   "source": [
    "## 1. Importación de librerias 📚"
   ]
  },
  {
   "cell_type": "code",
   "execution_count": 1,
   "id": "27c1bdb2",
   "metadata": {},
   "outputs": [],
   "source": [
    "import pandas as pd\n",
    "import numpy as np\n",
    "import seaborn as sns\n",
    "import matplotlib as plt"
   ]
  },
  {
   "cell_type": "markdown",
   "id": "b2b95150",
   "metadata": {},
   "source": [
    "Otras funciones"
   ]
  },
  {
   "cell_type": "code",
   "execution_count": 2,
   "id": "4e847325",
   "metadata": {},
   "outputs": [],
   "source": [
    "#import Funciones Funciones as fu"
   ]
  },
  {
   "cell_type": "markdown",
   "id": "95fef405",
   "metadata": {},
   "source": [
    "## 2. Importación del dataset 📖"
   ]
  },
  {
   "cell_type": "code",
   "execution_count": 9,
   "id": "7379dc95",
   "metadata": {},
   "outputs": [],
   "source": [
    "data = pd.read_csv(\"./attacks_limpio.csv\", dtype = str)\n",
    "data = data.drop(\"Unnamed: 0\", axis = 1)"
   ]
  },
  {
   "cell_type": "code",
   "execution_count": 10,
   "id": "57d9399d",
   "metadata": {},
   "outputs": [
    {
     "data": {
      "text/html": [
       "<div>\n",
       "<style scoped>\n",
       "    .dataframe tbody tr th:only-of-type {\n",
       "        vertical-align: middle;\n",
       "    }\n",
       "\n",
       "    .dataframe tbody tr th {\n",
       "        vertical-align: top;\n",
       "    }\n",
       "\n",
       "    .dataframe thead th {\n",
       "        text-align: right;\n",
       "    }\n",
       "</style>\n",
       "<table border=\"1\" class=\"dataframe\">\n",
       "  <thead>\n",
       "    <tr style=\"text-align: right;\">\n",
       "      <th></th>\n",
       "      <th>Date</th>\n",
       "      <th>Year</th>\n",
       "      <th>Country</th>\n",
       "      <th>Activity</th>\n",
       "      <th>Sex</th>\n",
       "      <th>Age</th>\n",
       "      <th>Fatal (Y/N)</th>\n",
       "      <th>Time</th>\n",
       "      <th>Age2</th>\n",
       "    </tr>\n",
       "  </thead>\n",
       "  <tbody>\n",
       "    <tr>\n",
       "      <th>0</th>\n",
       "      <td>Jun</td>\n",
       "      <td>2018</td>\n",
       "      <td>USA</td>\n",
       "      <td>Surfing</td>\n",
       "      <td>M</td>\n",
       "      <td>48</td>\n",
       "      <td>N</td>\n",
       "      <td>07</td>\n",
       "      <td>48</td>\n",
       "    </tr>\n",
       "    <tr>\n",
       "      <th>1</th>\n",
       "      <td>Dec</td>\n",
       "      <td>2017</td>\n",
       "      <td>USA</td>\n",
       "      <td>Surfing</td>\n",
       "      <td>F</td>\n",
       "      <td>54</td>\n",
       "      <td>N</td>\n",
       "      <td>18</td>\n",
       "      <td>54</td>\n",
       "    </tr>\n",
       "    <tr>\n",
       "      <th>2</th>\n",
       "      <td>Dec</td>\n",
       "      <td>2017</td>\n",
       "      <td>USA</td>\n",
       "      <td>Surfing</td>\n",
       "      <td>F</td>\n",
       "      <td>35</td>\n",
       "      <td>N</td>\n",
       "      <td>12</td>\n",
       "      <td>35</td>\n",
       "    </tr>\n",
       "    <tr>\n",
       "      <th>3</th>\n",
       "      <td>Nov</td>\n",
       "      <td>2017</td>\n",
       "      <td>USA</td>\n",
       "      <td>Surfing</td>\n",
       "      <td>F</td>\n",
       "      <td>14</td>\n",
       "      <td>N</td>\n",
       "      <td>UNKNOWN</td>\n",
       "      <td>14</td>\n",
       "    </tr>\n",
       "    <tr>\n",
       "      <th>4</th>\n",
       "      <td>Oct</td>\n",
       "      <td>2017</td>\n",
       "      <td>USA</td>\n",
       "      <td>Surfing</td>\n",
       "      <td>M</td>\n",
       "      <td>54</td>\n",
       "      <td>N</td>\n",
       "      <td>18</td>\n",
       "      <td>54</td>\n",
       "    </tr>\n",
       "    <tr>\n",
       "      <th>...</th>\n",
       "      <td>...</td>\n",
       "      <td>...</td>\n",
       "      <td>...</td>\n",
       "      <td>...</td>\n",
       "      <td>...</td>\n",
       "      <td>...</td>\n",
       "      <td>...</td>\n",
       "      <td>...</td>\n",
       "      <td>...</td>\n",
       "    </tr>\n",
       "    <tr>\n",
       "      <th>1261</th>\n",
       "      <td>UNKNOWN</td>\n",
       "      <td>1900</td>\n",
       "      <td>SOUTH AFRICA</td>\n",
       "      <td>Swimming</td>\n",
       "      <td>M</td>\n",
       "      <td>0</td>\n",
       "      <td>N</td>\n",
       "      <td>UNKNOWN</td>\n",
       "      <td>17</td>\n",
       "    </tr>\n",
       "    <tr>\n",
       "      <th>1262</th>\n",
       "      <td>Jan</td>\n",
       "      <td>1887</td>\n",
       "      <td>SOUTH AFRICA</td>\n",
       "      <td>Swimming</td>\n",
       "      <td>M</td>\n",
       "      <td>13</td>\n",
       "      <td>Y</td>\n",
       "      <td>12</td>\n",
       "      <td>13</td>\n",
       "    </tr>\n",
       "    <tr>\n",
       "      <th>1263</th>\n",
       "      <td>Jan</td>\n",
       "      <td>1886</td>\n",
       "      <td>SOUTH AFRICA</td>\n",
       "      <td>Swimming</td>\n",
       "      <td>M</td>\n",
       "      <td>0</td>\n",
       "      <td>Y</td>\n",
       "      <td>UNKNOWN</td>\n",
       "      <td>17</td>\n",
       "    </tr>\n",
       "    <tr>\n",
       "      <th>1264</th>\n",
       "      <td>Jan</td>\n",
       "      <td>1884</td>\n",
       "      <td>SOUTH AFRICA</td>\n",
       "      <td>Swimming</td>\n",
       "      <td>M</td>\n",
       "      <td>0</td>\n",
       "      <td>Y</td>\n",
       "      <td>UNKNOWN</td>\n",
       "      <td>17</td>\n",
       "    </tr>\n",
       "    <tr>\n",
       "      <th>1265</th>\n",
       "      <td>UNKNOWN</td>\n",
       "      <td>UNKNOWN</td>\n",
       "      <td>SOUTH AFRICA</td>\n",
       "      <td>Swimming</td>\n",
       "      <td>M</td>\n",
       "      <td>0</td>\n",
       "      <td>Y</td>\n",
       "      <td>UNKNOWN</td>\n",
       "      <td>17</td>\n",
       "    </tr>\n",
       "  </tbody>\n",
       "</table>\n",
       "<p>1266 rows × 9 columns</p>\n",
       "</div>"
      ],
      "text/plain": [
       "         Date     Year       Country  Activity Sex Age Fatal (Y/N)     Time  \\\n",
       "0         Jun     2018           USA   Surfing   M  48           N       07   \n",
       "1         Dec     2017           USA   Surfing   F  54           N       18   \n",
       "2         Dec     2017           USA   Surfing   F  35           N       12   \n",
       "3         Nov     2017           USA   Surfing   F  14           N  UNKNOWN   \n",
       "4         Oct     2017           USA   Surfing   M  54           N       18   \n",
       "...       ...      ...           ...       ...  ..  ..         ...      ...   \n",
       "1261  UNKNOWN     1900  SOUTH AFRICA  Swimming   M   0           N  UNKNOWN   \n",
       "1262      Jan     1887  SOUTH AFRICA  Swimming   M  13           Y       12   \n",
       "1263      Jan     1886  SOUTH AFRICA  Swimming   M   0           Y  UNKNOWN   \n",
       "1264      Jan     1884  SOUTH AFRICA  Swimming   M   0           Y  UNKNOWN   \n",
       "1265  UNKNOWN  UNKNOWN  SOUTH AFRICA  Swimming   M   0           Y  UNKNOWN   \n",
       "\n",
       "     Age2  \n",
       "0      48  \n",
       "1      54  \n",
       "2      35  \n",
       "3      14  \n",
       "4      54  \n",
       "...   ...  \n",
       "1261   17  \n",
       "1262   13  \n",
       "1263   17  \n",
       "1264   17  \n",
       "1265   17  \n",
       "\n",
       "[1266 rows x 9 columns]"
      ]
     },
     "execution_count": 10,
     "metadata": {},
     "output_type": "execute_result"
    }
   ],
   "source": [
    "data"
   ]
  },
  {
   "cell_type": "markdown",
   "id": "f13c45a4",
   "metadata": {},
   "source": [
    "## 3. Visualización de datos 👀"
   ]
  },
  {
   "cell_type": "markdown",
   "id": "9e32ccc5",
   "metadata": {},
   "source": [
    "Las hipótesis/estudios planteados a próposito de establecer las características en materia a país, hora, época (mes), participantes y demás variables para el campeonato de IronWater son las siguientes:\n",
    "\n",
    "- Veracidad de sí en los últimos años ha aumentado el ataque de los tiburones\n",
    "- Existencia de correlaccion entre el número de ataques producidos con el sexo y la edad del afectado\n",
    "- País con menos accidentes (entre los propuestos)\n",
    "- Mejor hora y época del año (mes) para realizar el campeonato\n",
    "- Actividad con mayor riesgo (entre las propuestas)\n",
    "\n",
    "*El principal objetivo es escoger aquellas en las que se produzca una menor cantidad de ataques de tiburón para garantizar la seguridad de todos los participantes y promover el respeto a la especie en cuestión.*"
   ]
  },
  {
   "cell_type": "markdown",
   "id": "71908b3e",
   "metadata": {},
   "source": [
    "### 3.1 Tendencia de los últimos años ⏳"
   ]
  },
  {
   "cell_type": "markdown",
   "id": "84834b25",
   "metadata": {},
   "source": [
    "Se pretende comprobar si es cierto que en los últimos años se han producido un mayor número de ataques de tiburón."
   ]
  },
  {
   "cell_type": "code",
   "execution_count": null,
   "id": "1981b453",
   "metadata": {},
   "outputs": [],
   "source": []
  }
 ],
 "metadata": {
  "kernelspec": {
   "display_name": "OLAYA1",
   "language": "python",
   "name": "olaya1"
  },
  "language_info": {
   "codemirror_mode": {
    "name": "ipython",
    "version": 3
   },
   "file_extension": ".py",
   "mimetype": "text/x-python",
   "name": "python",
   "nbconvert_exporter": "python",
   "pygments_lexer": "ipython3",
   "version": "3.8.5"
  }
 },
 "nbformat": 4,
 "nbformat_minor": 5
}
