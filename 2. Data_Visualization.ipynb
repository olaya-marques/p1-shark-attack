{
 "cells": [
  {
   "cell_type": "markdown",
   "id": "1bcc703a",
   "metadata": {},
   "source": [
    "# Visualización de datos 📊"
   ]
  },
  {
   "cell_type": "markdown",
   "id": "96f715c2",
   "metadata": {},
   "source": [
    "En este jupyter se encuentra todo el proceso de visualización y planteamiento de hipótesis, de los datos procesados del dataset descargado de kaggle: \"Shark attack\"\n",
    "\n",
    "*Consideraciones: \n",
    "Se incluyen comentarios al final de cada gráfica de cara a facilitar la resolución de la hipótesis y la toma de decisiones, no obstante, la conclusión final y los resultados se encuentran en el README. En aquellas columnas donde existen \"UNKNOWN\" o \"0\" (NaNs), los cuales no se procedieron a eliminar en el anterior jupyter (1. Cleaning_Data), debido a que si no se perdían datos relevantes de otras columnas para el caso único de cada variable no se tendrán en cuenta.*"
   ]
  },
  {
   "cell_type": "markdown",
   "id": "37fc960b",
   "metadata": {},
   "source": [
    "## Índice 📎"
   ]
  },
  {
   "cell_type": "markdown",
   "id": "6387b105",
   "metadata": {},
   "source": [
    "1. Importación de librerías\n",
    "2. Importación del dataset\n",
    "3. Visualización de datos\n",
    ">- Tendencia de los últimos años\n",
    ">- Sexo y edad\n",
    ">- País\n",
    ">- Hora y época\n",
    ">- Riesgo y actividad\n",
    "4. Bibliografía"
   ]
  },
  {
   "cell_type": "markdown",
   "id": "ce964a8e",
   "metadata": {},
   "source": [
    "## 1. Importación de librerias 📚"
   ]
  },
  {
   "cell_type": "code",
   "execution_count": 1,
   "id": "27c1bdb2",
   "metadata": {},
   "outputs": [],
   "source": [
    "import pandas as pd\n",
    "import numpy as np\n",
    "import seaborn as sns\n",
    "import matplotlib.pyplot as plt"
   ]
  },
  {
   "cell_type": "markdown",
   "id": "b2b95150",
   "metadata": {},
   "source": [
    "Otras funciones"
   ]
  },
  {
   "cell_type": "code",
   "execution_count": 2,
   "id": "4e847325",
   "metadata": {},
   "outputs": [],
   "source": [
    "#import Funciones Funciones as fu"
   ]
  },
  {
   "cell_type": "markdown",
   "id": "95fef405",
   "metadata": {},
   "source": [
    "## 2. Importación del dataset 📖"
   ]
  },
  {
   "cell_type": "code",
   "execution_count": 3,
   "id": "7379dc95",
   "metadata": {},
   "outputs": [],
   "source": [
    "data = pd.read_csv(\"./attacks_limpio.csv\", dtype = str)\n",
    "data = data.drop(\"Unnamed: 0\", axis = 1)"
   ]
  },
  {
   "cell_type": "code",
   "execution_count": 4,
   "id": "57d9399d",
   "metadata": {},
   "outputs": [
    {
     "data": {
      "text/html": [
       "<div>\n",
       "<style scoped>\n",
       "    .dataframe tbody tr th:only-of-type {\n",
       "        vertical-align: middle;\n",
       "    }\n",
       "\n",
       "    .dataframe tbody tr th {\n",
       "        vertical-align: top;\n",
       "    }\n",
       "\n",
       "    .dataframe thead th {\n",
       "        text-align: right;\n",
       "    }\n",
       "</style>\n",
       "<table border=\"1\" class=\"dataframe\">\n",
       "  <thead>\n",
       "    <tr style=\"text-align: right;\">\n",
       "      <th></th>\n",
       "      <th>Date</th>\n",
       "      <th>Year</th>\n",
       "      <th>Country</th>\n",
       "      <th>Activity</th>\n",
       "      <th>Sex</th>\n",
       "      <th>Age</th>\n",
       "      <th>Fatal (Y/N)</th>\n",
       "      <th>Time</th>\n",
       "      <th>Age2</th>\n",
       "    </tr>\n",
       "  </thead>\n",
       "  <tbody>\n",
       "    <tr>\n",
       "      <th>785</th>\n",
       "      <td>Jul</td>\n",
       "      <td>1889</td>\n",
       "      <td>USA</td>\n",
       "      <td>Fishing</td>\n",
       "      <td>M</td>\n",
       "      <td>0</td>\n",
       "      <td>N</td>\n",
       "      <td>07</td>\n",
       "      <td>17</td>\n",
       "    </tr>\n",
       "    <tr>\n",
       "      <th>102</th>\n",
       "      <td>Feb</td>\n",
       "      <td>2013</td>\n",
       "      <td>USA</td>\n",
       "      <td>Surfing</td>\n",
       "      <td>M</td>\n",
       "      <td>16</td>\n",
       "      <td>N</td>\n",
       "      <td>14</td>\n",
       "      <td>16</td>\n",
       "    </tr>\n",
       "    <tr>\n",
       "      <th>231</th>\n",
       "      <td>Jan</td>\n",
       "      <td>2007</td>\n",
       "      <td>USA</td>\n",
       "      <td>Surfing</td>\n",
       "      <td>M</td>\n",
       "      <td>24</td>\n",
       "      <td>N</td>\n",
       "      <td>10</td>\n",
       "      <td>24</td>\n",
       "    </tr>\n",
       "    <tr>\n",
       "      <th>106</th>\n",
       "      <td>Nov</td>\n",
       "      <td>2012</td>\n",
       "      <td>USA</td>\n",
       "      <td>Surfing</td>\n",
       "      <td>M</td>\n",
       "      <td>43</td>\n",
       "      <td>N</td>\n",
       "      <td>08</td>\n",
       "      <td>43</td>\n",
       "    </tr>\n",
       "    <tr>\n",
       "      <th>903</th>\n",
       "      <td>Jun</td>\n",
       "      <td>2013</td>\n",
       "      <td>USA</td>\n",
       "      <td>Swimming</td>\n",
       "      <td>M</td>\n",
       "      <td>0</td>\n",
       "      <td>N</td>\n",
       "      <td>UNKNOWN</td>\n",
       "      <td>17</td>\n",
       "    </tr>\n",
       "    <tr>\n",
       "      <th>673</th>\n",
       "      <td>Feb</td>\n",
       "      <td>1975</td>\n",
       "      <td>SOUTH AFRICA</td>\n",
       "      <td>Surfing</td>\n",
       "      <td>M</td>\n",
       "      <td>16</td>\n",
       "      <td>N</td>\n",
       "      <td>10</td>\n",
       "      <td>16</td>\n",
       "    </tr>\n",
       "    <tr>\n",
       "      <th>554</th>\n",
       "      <td>Mar</td>\n",
       "      <td>1968</td>\n",
       "      <td>USA</td>\n",
       "      <td>Surfing</td>\n",
       "      <td>M</td>\n",
       "      <td>20</td>\n",
       "      <td>N</td>\n",
       "      <td>UNKNOWN</td>\n",
       "      <td>20</td>\n",
       "    </tr>\n",
       "    <tr>\n",
       "      <th>725</th>\n",
       "      <td>Sep</td>\n",
       "      <td>1966</td>\n",
       "      <td>USA</td>\n",
       "      <td>Fishing</td>\n",
       "      <td>M</td>\n",
       "      <td>20</td>\n",
       "      <td>N</td>\n",
       "      <td>UNKNOWN</td>\n",
       "      <td>20</td>\n",
       "    </tr>\n",
       "    <tr>\n",
       "      <th>718</th>\n",
       "      <td>UNKNOWN</td>\n",
       "      <td>1983</td>\n",
       "      <td>USA</td>\n",
       "      <td>Fishing</td>\n",
       "      <td>M</td>\n",
       "      <td>0</td>\n",
       "      <td>N</td>\n",
       "      <td>UNKNOWN</td>\n",
       "      <td>17</td>\n",
       "    </tr>\n",
       "    <tr>\n",
       "      <th>235</th>\n",
       "      <td>Oct</td>\n",
       "      <td>2006</td>\n",
       "      <td>USA</td>\n",
       "      <td>Surfing</td>\n",
       "      <td>M</td>\n",
       "      <td>0</td>\n",
       "      <td>N</td>\n",
       "      <td>UNKNOWN</td>\n",
       "      <td>17</td>\n",
       "    </tr>\n",
       "    <tr>\n",
       "      <th>719</th>\n",
       "      <td>Aug</td>\n",
       "      <td>1981</td>\n",
       "      <td>USA</td>\n",
       "      <td>Fishing</td>\n",
       "      <td>M</td>\n",
       "      <td>0</td>\n",
       "      <td>UNKNOWN</td>\n",
       "      <td>UNKNOWN</td>\n",
       "      <td>17</td>\n",
       "    </tr>\n",
       "    <tr>\n",
       "      <th>758</th>\n",
       "      <td>UNKNOWN</td>\n",
       "      <td>1929</td>\n",
       "      <td>USA</td>\n",
       "      <td>Fishing</td>\n",
       "      <td>M</td>\n",
       "      <td>0</td>\n",
       "      <td>N</td>\n",
       "      <td>UNKNOWN</td>\n",
       "      <td>17</td>\n",
       "    </tr>\n",
       "    <tr>\n",
       "      <th>141</th>\n",
       "      <td>Aug</td>\n",
       "      <td>2011</td>\n",
       "      <td>USA</td>\n",
       "      <td>Surfing</td>\n",
       "      <td>M</td>\n",
       "      <td>19</td>\n",
       "      <td>N</td>\n",
       "      <td>11</td>\n",
       "      <td>19</td>\n",
       "    </tr>\n",
       "    <tr>\n",
       "      <th>489</th>\n",
       "      <td>Nov</td>\n",
       "      <td>1984</td>\n",
       "      <td>USA</td>\n",
       "      <td>Surfing</td>\n",
       "      <td>M</td>\n",
       "      <td>13</td>\n",
       "      <td>N</td>\n",
       "      <td>UNKNOWN</td>\n",
       "      <td>13</td>\n",
       "    </tr>\n",
       "    <tr>\n",
       "      <th>643</th>\n",
       "      <td>Jul</td>\n",
       "      <td>1993</td>\n",
       "      <td>SOUTH AFRICA</td>\n",
       "      <td>Surfing</td>\n",
       "      <td>M</td>\n",
       "      <td>28</td>\n",
       "      <td>N</td>\n",
       "      <td>15</td>\n",
       "      <td>28</td>\n",
       "    </tr>\n",
       "    <tr>\n",
       "      <th>129</th>\n",
       "      <td>Jan</td>\n",
       "      <td>2012</td>\n",
       "      <td>USA</td>\n",
       "      <td>Surfing</td>\n",
       "      <td>M</td>\n",
       "      <td>53</td>\n",
       "      <td>N</td>\n",
       "      <td>UNKNOWN</td>\n",
       "      <td>53</td>\n",
       "    </tr>\n",
       "    <tr>\n",
       "      <th>695</th>\n",
       "      <td>Oct</td>\n",
       "      <td>2008</td>\n",
       "      <td>USA</td>\n",
       "      <td>Fishing</td>\n",
       "      <td>M</td>\n",
       "      <td>11</td>\n",
       "      <td>N</td>\n",
       "      <td>12</td>\n",
       "      <td>11</td>\n",
       "    </tr>\n",
       "    <tr>\n",
       "      <th>1066</th>\n",
       "      <td>Oct</td>\n",
       "      <td>1961</td>\n",
       "      <td>USA</td>\n",
       "      <td>Swimming</td>\n",
       "      <td>M</td>\n",
       "      <td>45</td>\n",
       "      <td>UNKNOWN</td>\n",
       "      <td>UNKNOWN</td>\n",
       "      <td>45</td>\n",
       "    </tr>\n",
       "    <tr>\n",
       "      <th>691</th>\n",
       "      <td>Jul</td>\n",
       "      <td>2010</td>\n",
       "      <td>USA</td>\n",
       "      <td>Fishing</td>\n",
       "      <td>M</td>\n",
       "      <td>0</td>\n",
       "      <td>N</td>\n",
       "      <td>UNKNOWN</td>\n",
       "      <td>17</td>\n",
       "    </tr>\n",
       "    <tr>\n",
       "      <th>444</th>\n",
       "      <td>Oct</td>\n",
       "      <td>1991</td>\n",
       "      <td>USA</td>\n",
       "      <td>Surfing</td>\n",
       "      <td>M</td>\n",
       "      <td>21</td>\n",
       "      <td>N</td>\n",
       "      <td>08</td>\n",
       "      <td>21</td>\n",
       "    </tr>\n",
       "  </tbody>\n",
       "</table>\n",
       "</div>"
      ],
      "text/plain": [
       "         Date  Year       Country  Activity Sex Age Fatal (Y/N)     Time Age2\n",
       "785       Jul  1889           USA   Fishing   M   0           N       07   17\n",
       "102       Feb  2013           USA   Surfing   M  16           N       14   16\n",
       "231       Jan  2007           USA   Surfing   M  24           N       10   24\n",
       "106       Nov  2012           USA   Surfing   M  43           N       08   43\n",
       "903       Jun  2013           USA  Swimming   M   0           N  UNKNOWN   17\n",
       "673       Feb  1975  SOUTH AFRICA   Surfing   M  16           N       10   16\n",
       "554       Mar  1968           USA   Surfing   M  20           N  UNKNOWN   20\n",
       "725       Sep  1966           USA   Fishing   M  20           N  UNKNOWN   20\n",
       "718   UNKNOWN  1983           USA   Fishing   M   0           N  UNKNOWN   17\n",
       "235       Oct  2006           USA   Surfing   M   0           N  UNKNOWN   17\n",
       "719       Aug  1981           USA   Fishing   M   0     UNKNOWN  UNKNOWN   17\n",
       "758   UNKNOWN  1929           USA   Fishing   M   0           N  UNKNOWN   17\n",
       "141       Aug  2011           USA   Surfing   M  19           N       11   19\n",
       "489       Nov  1984           USA   Surfing   M  13           N  UNKNOWN   13\n",
       "643       Jul  1993  SOUTH AFRICA   Surfing   M  28           N       15   28\n",
       "129       Jan  2012           USA   Surfing   M  53           N  UNKNOWN   53\n",
       "695       Oct  2008           USA   Fishing   M  11           N       12   11\n",
       "1066      Oct  1961           USA  Swimming   M  45     UNKNOWN  UNKNOWN   45\n",
       "691       Jul  2010           USA   Fishing   M   0           N  UNKNOWN   17\n",
       "444       Oct  1991           USA   Surfing   M  21           N       08   21"
      ]
     },
     "execution_count": 4,
     "metadata": {},
     "output_type": "execute_result"
    }
   ],
   "source": [
    "data.sample(20)"
   ]
  },
  {
   "cell_type": "markdown",
   "id": "f13c45a4",
   "metadata": {},
   "source": [
    "## 3. Visualización de datos 👀"
   ]
  },
  {
   "cell_type": "markdown",
   "id": "9e32ccc5",
   "metadata": {},
   "source": [
    "Las hipótesis/estudios planteados a próposito de establecer las características en materia a país, hora, época (mes), participantes y demás variables para el campeonato de IronWater son las siguientes:\n",
    "\n",
    "- Veracidad de sí en los últimos años ha descendido el ataque de los tiburones\n",
    "- Existencia de correlaccion entre el número de ataques producidos con el sexo y la edad del afectado\n",
    "- País con menos accidentes (entre los propuestos)\n",
    "- Mejor hora y época del año (mes) para realizar el campeonato\n",
    "- Actividad con mayor riesgo (entre las propuestas)\n",
    "\n",
    "*El principal objetivo es escoger aquellas en las que se produzca una menor cantidad de ataques de tiburón para garantizar la seguridad de todos los participantes y promover el respeto a la especie en cuestión.*"
   ]
  },
  {
   "cell_type": "markdown",
   "id": "71908b3e",
   "metadata": {},
   "source": [
    "### 3.1 Tendencia de los últimos años ⏳"
   ]
  },
  {
   "cell_type": "markdown",
   "id": "84834b25",
   "metadata": {},
   "source": [
    "Se pretende comprobar si es cierto que en los últimos años se han producido un menor número de ataques de tiburón, o por el contrario han aumentado."
   ]
  },
  {
   "cell_type": "code",
   "execution_count": 6,
   "id": "713b6993",
   "metadata": {},
   "outputs": [],
   "source": [
    "#data.Year = data.Year.astype(\"float\")\n",
    "#y = data[data[\"Year\"]>0]\n",
    "#y"
   ]
  },
  {
   "cell_type": "code",
   "execution_count": null,
   "id": "b50136c4",
   "metadata": {},
   "outputs": [],
   "source": [
    "sns.kdeplot(y.Year).set_title(\"Ataques por año\")"
   ]
  },
  {
   "cell_type": "code",
   "execution_count": null,
   "id": "a5bc1555",
   "metadata": {},
   "outputs": [],
   "source": [
    "sns.kdeplot(y.Year.astype(\"float\"), hue=data[\"Fatal (Y/N)\"], palette=(\"Set2\")).set_title(\"Año y riesgo\")"
   ]
  },
  {
   "cell_type": "code",
   "execution_count": null,
   "id": "a1b9bb4d",
   "metadata": {},
   "outputs": [],
   "source": [
    "#fig, axs = plt.subplots(nrows = 1, ncols = 2, figsize = (25, 15))\n",
    "#sns.kdeplot(y.Year, ax=axs[0,0]).set_title(\"Ataques por año\")\n",
    "#sns.kdeplot(y.Year.astype(\"float\"), hue=data[\"Fatal (Y/N)\"], palette=(\"Set2\"), ax=axs[0,1]).set_title(\"Año y riesgo\")"
   ]
  },
  {
   "cell_type": "markdown",
   "id": "2ddf1296",
   "metadata": {},
   "source": [
    "*Comentarios = Se muestra una tendencia altiva, en general especialmente durante 1987 y 2018*"
   ]
  },
  {
   "cell_type": "markdown",
   "id": "490921ed",
   "metadata": {},
   "source": [
    "### 3.2 Sexo y Edad 👤"
   ]
  },
  {
   "cell_type": "markdown",
   "id": "8de4744c",
   "metadata": {},
   "source": [
    "Se pretende analizar en que edad y género es menor la tendencia a recibir un ataque de un tiburón."
   ]
  },
  {
   "cell_type": "markdown",
   "id": "5a9bb0cd",
   "metadata": {},
   "source": [
    "#### Sexo"
   ]
  },
  {
   "cell_type": "code",
   "execution_count": 7,
   "id": "507fc423",
   "metadata": {},
   "outputs": [],
   "source": [
    "#data.Sex.value_counts()"
   ]
  },
  {
   "cell_type": "code",
   "execution_count": null,
   "id": "922b9f3f",
   "metadata": {},
   "outputs": [],
   "source": [
    "#fig, axs = plt.subplots(nrows = 1, ncols = 2, figsize = (25, 15))\n",
    "#sns.countplot(x=data.Sex, order=[\"M\", \"F\"], palette=(\"Set2\"), ax=axs[0,0]).set_title(\"Ataques por sexo\")\n",
    "#sns.countplot(x=data.Sex, order=[\"M\",\"F\"], hue=data[\"Fatal (Y/N)\"], palette=(\"Set2\"), ax=axs[0,1]).set_title(\"Sexo y riesgo\")"
   ]
  },
  {
   "cell_type": "code",
   "execution_count": 8,
   "id": "ecd334f6",
   "metadata": {},
   "outputs": [
    {
     "data": {
      "text/plain": [
       "Text(0.5, 1.0, 'Ataques por sexo')"
      ]
     },
     "execution_count": 8,
     "metadata": {},
     "output_type": "execute_result"
    },
    {
     "data": {
      "image/png": "[encoded data removed]",
      "text/plain": [
       "<Figure size 576x396 with 1 Axes>"
      ]
     },
     "metadata": {},
     "output_type": "display_data"
    }
   ],
   "source": [
    "plt.style.use(\"seaborn\")\n",
    "sns.countplot(x=data.Sex, order=[\"M\", \"F\"], palette=(\"Set2\")).set_title(\"Ataques por sexo\")"
   ]
  },
  {
   "cell_type": "markdown",
   "id": "a9568543",
   "metadata": {},
   "source": [
    "*Comentario = Parece que los hombres son más propensos a recibir un ataque.*"
   ]
  },
  {
   "cell_type": "code",
   "execution_count": 9,
   "id": "748bcab4",
   "metadata": {},
   "outputs": [
    {
     "data": {
      "text/plain": [
       "Text(0.5, 1.0, 'Sexo y riesgo')"
      ]
     },
     "execution_count": 9,
     "metadata": {},
     "output_type": "execute_result"
    },
    {
     "data": {
      "image/png": "[encoded data removed]",
      "text/plain": [
       "<Figure size 576x396 with 1 Axes>"
      ]
     },
     "metadata": {},
     "output_type": "display_data"
    }
   ],
   "source": [
    "plt.style.use(\"seaborn\")\n",
    "sns.countplot(x=data.Sex, order=[\"M\",\"F\"], hue=data[\"Fatal (Y/N)\"], palette=(\"Set2\")).set_title(\"Sexo y riesgo\")"
   ]
  },
  {
   "cell_type": "markdown",
   "id": "982c7139",
   "metadata": {},
   "source": [
    "*Comentario = Parece que de los ataques que reciben los hombres (los cuales son en mayor proporción que las mujeres) tales, resultan más letales.*"
   ]
  },
  {
   "cell_type": "markdown",
   "id": "73ef46e1",
   "metadata": {},
   "source": [
    "#### Edad"
   ]
  },
  {
   "cell_type": "code",
   "execution_count": 10,
   "id": "ba022c5d",
   "metadata": {},
   "outputs": [],
   "source": [
    "#data.Age.value_counts().sort_index()"
   ]
  },
  {
   "cell_type": "code",
   "execution_count": 11,
   "id": "123e9318",
   "metadata": {},
   "outputs": [],
   "source": [
    "data.Age = data.Age.astype(\"float\")\n",
    "e = data[data[\"Age\"]>0]\n",
    "#e"
   ]
  },
  {
   "cell_type": "code",
   "execution_count": null,
   "id": "f4240dc4",
   "metadata": {},
   "outputs": [],
   "source": [
    "#fig, axs = plt.subplots(nrows = 1, ncols = 2, figsize = (25, 15))\n",
    "#sns.kdeplot(e.Age, ax=axs[0,0]).set_title(\"Ataques por edad\")\n",
    "#sns.kdeplot(e.Age, hue=data[\"Fatal (Y/N)\"], palette=(\"Set2\"), ax=axs[0,1]).set_title(\"Edad y riesgo\")"
   ]
  },
  {
   "cell_type": "code",
   "execution_count": 12,
   "id": "c06f9ad0",
   "metadata": {},
   "outputs": [
    {
     "data": {
      "text/plain": [
       "Text(0.5, 1.0, 'Ataques por edad')"
      ]
     },
     "execution_count": 12,
     "metadata": {},
     "output_type": "execute_result"
    },
    {
     "data": {
      "image/png": "[encoded data removed]",
      "text/plain": [
       "<Figure size 576x396 with 1 Axes>"
      ]
     },
     "metadata": {},
     "output_type": "display_data"
    }
   ],
   "source": [
    "sns.kdeplot(e.Age).set_title(\"Ataques por edad\")\n",
    "#plot = axvline(data.Age.median(), c = 'red', label = 'mean')"
   ]
  },
  {
   "cell_type": "code",
   "execution_count": 13,
   "id": "36f4c3a5",
   "metadata": {},
   "outputs": [
    {
     "data": {
      "text/plain": [
       "Text(0.5, 1.0, 'Edad y riesgo')"
      ]
     },
     "execution_count": 13,
     "metadata": {},
     "output_type": "execute_result"
    },
    {
     "data": {
      "image/png": "[encoded data removed]",
      "text/plain": [
       "<Figure size 576x396 with 1 Axes>"
      ]
     },
     "metadata": {},
     "output_type": "display_data"
    }
   ],
   "source": [
    "sns.kdeplot(e.Age, hue=data[\"Fatal (Y/N)\"], palette=(\"Set2\")).set_title(\"Edad y riesgo\")\n",
    "#plot = axvline(data.Age.median(), c = 'red', label = 'mean')"
   ]
  },
  {
   "cell_type": "markdown",
   "id": "ced38c61",
   "metadata": {},
   "source": [
    "### 3.3 País 📍"
   ]
  },
  {
   "cell_type": "markdown",
   "id": "28d004c3",
   "metadata": {},
   "source": [
    "Se pretende escoger el país que reporte menos accidentes para garantizar una mayor seguridad."
   ]
  },
  {
   "cell_type": "code",
   "execution_count": 14,
   "id": "79ee801b",
   "metadata": {},
   "outputs": [],
   "source": [
    "#país = pd.Series(data.Country.value_counts().sort_index())"
   ]
  },
  {
   "cell_type": "code",
   "execution_count": null,
   "id": "9c87ebbc",
   "metadata": {},
   "outputs": [],
   "source": [
    "#fig, axs = plt.subplots(nrows = 1, ncols = 2, figsize = (25, 15))\n",
    "#sns.countplot(x = data.Country,palette=(\"Set2\"), ax=axs[0,0]).set_title(\"Ataques por país\")\n",
    "#sns.countplot(x=data.Country, hue=data[\"Fatal (Y/N)\"], palette=(\"Set2\"),ax=axs[0,0]).set_title(\"País y Riesgo\")"
   ]
  },
  {
   "cell_type": "code",
   "execution_count": 15,
   "id": "a644c8b4",
   "metadata": {
    "scrolled": true
   },
   "outputs": [
    {
     "data": {
      "text/plain": [
       "Text(0.5, 1.0, 'Ataques por país')"
      ]
     },
     "execution_count": 15,
     "metadata": {},
     "output_type": "execute_result"
    },
    {
     "data": {
      "image/png": "[encoded data removed]",
      "text/plain": [
       "<Figure size 576x396 with 1 Axes>"
      ]
     },
     "metadata": {},
     "output_type": "display_data"
    }
   ],
   "source": [
    "plt.style.use(\"seaborn\")\n",
    "sns.countplot(x = data.Country,palette=(\"Set2\")).set_title(\"Ataques por país\")"
   ]
  },
  {
   "cell_type": "markdown",
   "id": "0c16f4de",
   "metadata": {},
   "source": [
    "*Comentarios = Parece ser que el país más óptimo para la celebración es Indonesia.*"
   ]
  },
  {
   "cell_type": "code",
   "execution_count": 16,
   "id": "4fdf3579",
   "metadata": {},
   "outputs": [
    {
     "data": {
      "text/plain": [
       "Text(0.5, 1.0, 'País y Riesgo')"
      ]
     },
     "execution_count": 16,
     "metadata": {},
     "output_type": "execute_result"
    },
    {
     "data": {
      "image/png": "[encoded data removed]",
      "text/plain": [
       "<Figure size 576x396 with 1 Axes>"
      ]
     },
     "metadata": {},
     "output_type": "display_data"
    }
   ],
   "source": [
    "plt.style.use(\"seaborn\")\n",
    "sns.countplot(x=data.Country, hue=data[\"Fatal (Y/N)\"], palette=(\"Set2\")).set_title(\"País y Riesgo\")"
   ]
  },
  {
   "cell_type": "markdown",
   "id": "af14c6cc",
   "metadata": {},
   "source": [
    "*Comentario = Si observamos la letalidad de dichos ataques el país más seguro sigue siendo Indonesia.*"
   ]
  },
  {
   "cell_type": "markdown",
   "id": "2028f05d",
   "metadata": {},
   "source": [
    "### 3.4 Hora y época 🌤️"
   ]
  },
  {
   "cell_type": "markdown",
   "id": "2005bebb",
   "metadata": {},
   "source": [
    "Se pretende escoger el momento del día y mes que reporte menos accidentes para garantizar una mayor seguridad."
   ]
  },
  {
   "cell_type": "markdown",
   "id": "9b947a27",
   "metadata": {},
   "source": [
    "#### Hora"
   ]
  },
  {
   "cell_type": "code",
   "execution_count": 17,
   "id": "b93057aa",
   "metadata": {},
   "outputs": [],
   "source": [
    "#hora = pd.Series(data.Time.value_counts())"
   ]
  },
  {
   "cell_type": "code",
   "execution_count": null,
   "id": "1906a7b4",
   "metadata": {},
   "outputs": [],
   "source": [
    "#fig, axs = plt.subplots(nrows = 1, ncols = 2, figsize = (25, 15))\n",
    "#sns.countplot(x = data.Time, palette=(\"Set2\"), order = [\"00\", \"02\", \"07\", \"09\", \"10\",\"11\",\"12\", \"13\", \"14\", \"15\", \"16\", \"17\",\"18\",\"19\",\"20\",\"23\"], ax=axs[0,0]).set_title(\"Ataques por hora/momento del día\")\n",
    "#sns.countplot(x = data.Time, hue = data[\"Fatal (Y/N)\"], order = [\"00\", \"02\", \"07\", \"09\", \"10\",\"11\",\"12\", \"13\", \"14\", \"15\", \"16\", \"17\",\"18\",\"19\",\"20\",\"23\"],palette= (\"Set2\"), ax=axs[0,1]).set_title(\"Hora/momento del día y riesgo\")"
   ]
  },
  {
   "cell_type": "code",
   "execution_count": 18,
   "id": "664a7632",
   "metadata": {},
   "outputs": [
    {
     "data": {
      "text/plain": [
       "Text(0.5, 1.0, 'Ataques por hora/momento del día')"
      ]
     },
     "execution_count": 18,
     "metadata": {},
     "output_type": "execute_result"
    },
    {
     "data": {
      "image/png": "[encoded data removed]",
      "text/plain": [
       "<Figure size 576x396 with 1 Axes>"
      ]
     },
     "metadata": {},
     "output_type": "display_data"
    }
   ],
   "source": [
    "sns.countplot(x = data.Time, palette=(\"Set2\"), order = [\"00\", \"02\", \"07\", \"09\", \"10\",\"11\",\"12\", \"13\", \"14\", \"15\", \"16\", \"17\",\"18\",\"19\",\"20\",\"23\"]).set_title(\"Ataques por hora/momento del día\")"
   ]
  },
  {
   "cell_type": "code",
   "execution_count": 19,
   "id": "d664e91e",
   "metadata": {},
   "outputs": [
    {
     "data": {
      "text/plain": [
       "Text(0.5, 1.0, 'Hora/momento del día y riesgo')"
      ]
     },
     "execution_count": 19,
     "metadata": {},
     "output_type": "execute_result"
    },
    {
     "data": {
      "image/png": "[encoded data removed]",
      "text/plain": [
       "<Figure size 576x396 with 1 Axes>"
      ]
     },
     "metadata": {},
     "output_type": "display_data"
    }
   ],
   "source": [
    "sns.countplot(x = data.Time, hue = data[\"Fatal (Y/N)\"], order = [\"00\", \"02\", \"07\", \"09\", \"10\",\"11\",\"12\", \"13\", \"14\", \"15\", \"16\", \"17\",\"18\",\"19\",\"20\",\"23\"],palette= (\"Set2\")).set_title(\"Hora/momento del día y riesgo\")"
   ]
  },
  {
   "cell_type": "markdown",
   "id": "8477b192",
   "metadata": {},
   "source": [
    "*Comentarios = El momento del día con mayor número de ataques es a las 14:00 y 11:00 mientras que el de menor número es por la noche entre las 21:00 y 05:00, coincidiendo con la letalidad*"
   ]
  },
  {
   "cell_type": "markdown",
   "id": "8d579ff5",
   "metadata": {},
   "source": [
    "#### Época"
   ]
  },
  {
   "cell_type": "code",
   "execution_count": 20,
   "id": "0d44c718",
   "metadata": {},
   "outputs": [],
   "source": [
    "#época = pd.Series(data.Date.value_counts())"
   ]
  },
  {
   "cell_type": "code",
   "execution_count": null,
   "id": "df369edd",
   "metadata": {},
   "outputs": [],
   "source": [
    "#fig, axs = plt.subplots(nrows = 1, ncols = 2, figsize = (25, 15))\n",
    "#sns.countplot(x = data.Date, palette= (\"Set2\"), order = [\"Jan\", \"Feb\", \"Mar\", \"Apr\", \"May\", \"Jun\", \"Jul\", \"Aug\", \"Sep\", \"Nov\", \"Dec\"], ax=axs[0,0]).set_title(\"Ataques por época/mes\")\n",
    "#sns.countplot(x=data.Date, hue=data[\"Fatal (Y/N)\"], palette=(\"Set2\"), order=[\"Jan\", \"Feb\", \"Mar\", \"Apr\", \"May\", \"Jun\", \"Jul\", \"Aug\", \"Sep\", \"Nov\", \"Dec\"], ax=axs[0,1]).set_title(\"Época/mes y riesgo\")"
   ]
  },
  {
   "cell_type": "code",
   "execution_count": 21,
   "id": "4eee5155",
   "metadata": {},
   "outputs": [
    {
     "data": {
      "text/plain": [
       "Text(0.5, 1.0, 'Ataques por época/mes')"
      ]
     },
     "execution_count": 21,
     "metadata": {},
     "output_type": "execute_result"
    },
    {
     "data": {
      "image/png": "[encoded data removed]",
      "text/plain": [
       "<Figure size 576x396 with 1 Axes>"
      ]
     },
     "metadata": {},
     "output_type": "display_data"
    }
   ],
   "source": [
    "sns.countplot(x = data.Date, palette= (\"Set2\"), order = [\"Jan\", \"Feb\", \"Mar\", \"Apr\", \"May\", \"Jun\", \"Jul\", \"Aug\", \"Sep\", \"Nov\", \"Dec\"]).set_title(\"Ataques por época/mes\")"
   ]
  },
  {
   "cell_type": "code",
   "execution_count": 22,
   "id": "c46cb7de",
   "metadata": {},
   "outputs": [
    {
     "data": {
      "text/plain": [
       "Text(0.5, 1.0, 'Época/mes y riesgo')"
      ]
     },
     "execution_count": 22,
     "metadata": {},
     "output_type": "execute_result"
    },
    {
     "data": {
      "image/png": "[encoded data removed]",
      "text/plain": [
       "<Figure size 576x396 with 1 Axes>"
      ]
     },
     "metadata": {},
     "output_type": "display_data"
    }
   ],
   "source": [
    "sns.countplot(x=data.Date, hue=data[\"Fatal (Y/N)\"], palette=(\"Set2\"), order=[\"Jan\", \"Feb\", \"Mar\", \"Apr\", \"May\", \"Jun\", \"Jul\", \"Aug\", \"Sep\", \"Nov\", \"Dec\"]).set_title(\"Época/mes y riesgo\")"
   ]
  },
  {
   "cell_type": "markdown",
   "id": "07f152be",
   "metadata": {},
   "source": [
    "*Comentarios: La época del año con menor número de accidentes, es en Febrero mientras que la mayor es en Julio, coincidiendo con la letalidad.*"
   ]
  },
  {
   "cell_type": "markdown",
   "id": "8914bd3d",
   "metadata": {},
   "source": [
    "### 3.5 Riesgo y Actividad 💀"
   ]
  },
  {
   "cell_type": "markdown",
   "id": "1d3d7d07",
   "metadata": {},
   "source": [
    "Se pretende observar que actividad tiene más riesgo a fin de informar a los participantes y de elaborar los seguros contra riesgos en el momento del contrato de inscripción."
   ]
  },
  {
   "cell_type": "code",
   "execution_count": 23,
   "id": "9af5564e",
   "metadata": {},
   "outputs": [],
   "source": [
    "#data.Activity.value_counts()"
   ]
  },
  {
   "cell_type": "code",
   "execution_count": 32,
   "id": "b11c6b18",
   "metadata": {},
   "outputs": [],
   "source": [
    "#fig, axs = plt.subplots(nrows = 1, ncols = 2, figsize = (25, 15))\n",
    "#sns.countplot(x=data.Activity, ax=axs[0,0], palette=(\"Set2\")).set_title(\"Ataques por actividad\")\n",
    "#sns.countplot(x=data[\"Fatal (Y/N)\"], hue=data.Activity, order=[\"Y\", \"N\"], ax=axs[0,1], palette=(\"Set2\")).set_title(\"Actividades y riesgo\")"
   ]
  },
  {
   "cell_type": "code",
   "execution_count": 33,
   "id": "ed38c3df",
   "metadata": {},
   "outputs": [
    {
     "data": {
      "text/plain": [
       "Text(0.5, 1.0, 'Ataques por actividad')"
      ]
     },
     "execution_count": 33,
     "metadata": {},
     "output_type": "execute_result"
    },
    {
     "data": {
      "image/png": "[encoded data removed]",
      "text/plain": [
       "<Figure size 576x396 with 1 Axes>"
      ]
     },
     "metadata": {},
     "output_type": "display_data"
    }
   ],
   "source": [
    "sns.countplot(x=data.Activity, palette=(\"Set2\")).set_title(\"Ataques por actividad\")"
   ]
  },
  {
   "cell_type": "markdown",
   "id": "3a99842e",
   "metadata": {},
   "source": [
    "De los ataques producidos vamos a comprobar su letalidad."
   ]
  },
  {
   "cell_type": "code",
   "execution_count": 213,
   "id": "0da094b9",
   "metadata": {},
   "outputs": [
    {
     "data": {
      "text/plain": [
       "Text(0.5, 1.0, 'Actividades y riesgo')"
      ]
     },
     "execution_count": 213,
     "metadata": {},
     "output_type": "execute_result"
    },
    {
     "data": {
      "image/png": "[encoded data removed]",
      "text/plain": [
       "<Figure size 576x396 with 1 Axes>"
      ]
     },
     "metadata": {},
     "output_type": "display_data"
    }
   ],
   "source": [
    "sns.countplot( x=data[\"Fatal (Y/N)\"], hue=data.Activity, order=[\"Y\", \"N\"], palette=(\"Set2\")).set_title(\"Actividades y riesgo\")"
   ]
  },
  {
   "cell_type": "markdown",
   "id": "ebef1b23",
   "metadata": {},
   "source": [
    "*Comentarios = Observamos que la actividad con un mayor número de ataques es el surf, seguida de la natación y en último lugar la pesca, sin embargo por el lado de la letalidad la mayor es la natación.*"
   ]
  },
  {
   "cell_type": "markdown",
   "id": "11d2f9cf",
   "metadata": {},
   "source": [
    "## Bibliografía 📁"
   ]
  },
  {
   "cell_type": "markdown",
   "id": "639ad20f",
   "metadata": {},
   "source": [
    "- [Matplotlib estilos](https://matplotlib.org/stable/gallery/style_sheets/style_sheets_reference.html)\n",
    "- [Visualización en seaborn](https://www.analyticslane.com/2018/07/20/visualizacion-de-datos-con-seaborn/)\n",
    "- [Ejemplos de paletas de seaborn](https://seaborn.pydata.org/tutorial/color_palettes.html)"
   ]
  }
 ],
 "metadata": {
  "kernelspec": {
   "display_name": "OLAYA1",
   "language": "python",
   "name": "olaya1"
  },
  "language_info": {
   "codemirror_mode": {
    "name": "ipython",
    "version": 3
   },
   "file_extension": ".py",
   "mimetype": "text/x-python",
   "name": "python",
   "nbconvert_exporter": "python",
   "pygments_lexer": "ipython3",
   "version": "3.8.5"
  }
 },
 "nbformat": 4,
 "nbformat_minor": 5
}
