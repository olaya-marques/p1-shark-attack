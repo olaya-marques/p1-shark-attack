{
 "cells": [
  {
   "cell_type": "markdown",
   "id": "1bcc703a",
   "metadata": {},
   "source": [
    "# Visualización de datos 📊"
   ]
  },
  {
   "cell_type": "code",
   "execution_count": null,
   "id": "530622b2",
   "metadata": {},
   "outputs": [],
   "source": []
  }
 ],
 "metadata": {
  "kernelspec": {
   "display_name": "OLAYA1",
   "language": "python",
   "name": "olaya1"
  },
  "language_info": {
   "codemirror_mode": {
    "name": "ipython",
    "version": 3
   },
   "file_extension": ".py",
   "mimetype": "text/x-python",
   "name": "python",
   "nbconvert_exporter": "python",
   "pygments_lexer": "ipython3",
   "version": "3.8.5"
  }
 },
 "nbformat": 4,
 "nbformat_minor": 5
}
